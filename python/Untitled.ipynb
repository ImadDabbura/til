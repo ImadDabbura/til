{
 "cells": [
  {
   "cell_type": "code",
   "execution_count": 3,
   "id": "ce190e7d-7d76-4839-840e-2dbaa4cc03c2",
   "metadata": {},
   "outputs": [],
   "source": [
    "class Test:\n",
    "    def __init__(self):\n",
    "        self._x = 1\n",
    "    \n",
    "    @property\n",
    "    def x(self):\n",
    "        return self._x"
   ]
  },
  {
   "cell_type": "code",
   "execution_count": 4,
   "id": "7bc3f10e-d334-4665-b0a1-7b4cb7ec7cb2",
   "metadata": {},
   "outputs": [],
   "source": [
    "c = Test()"
   ]
  },
  {
   "cell_type": "code",
   "execution_count": 5,
   "id": "e9846115-7648-4157-99c9-75f930417901",
   "metadata": {},
   "outputs": [
    {
     "data": {
      "text/plain": [
       "1"
      ]
     },
     "execution_count": 5,
     "metadata": {},
     "output_type": "execute_result"
    }
   ],
   "source": [
    "c.x"
   ]
  },
  {
   "cell_type": "code",
   "execution_count": 6,
   "id": "ae29b78b-0861-41dd-8441-9437422485a6",
   "metadata": {},
   "outputs": [
    {
     "ename": "AttributeError",
     "evalue": "can't set attribute 'x'",
     "output_type": "error",
     "traceback": [
      "\u001b[0;31m---------------------------------------------------------------------------\u001b[0m",
      "\u001b[0;31mAttributeError\u001b[0m                            Traceback (most recent call last)",
      "Input \u001b[0;32mIn [6]\u001b[0m, in \u001b[0;36m<cell line: 1>\u001b[0;34m()\u001b[0m\n\u001b[0;32m----> 1\u001b[0m c\u001b[38;5;241m.\u001b[39mx \u001b[38;5;241m=\u001b[39m \u001b[38;5;241m10\u001b[39m\n",
      "\u001b[0;31mAttributeError\u001b[0m: can't set attribute 'x'"
     ]
    }
   ],
   "source": [
    "c.x = 10"
   ]
  },
  {
   "cell_type": "code",
   "execution_count": null,
   "id": "f10c132e-b3d4-4970-b654-69342bf5e57e",
   "metadata": {},
   "outputs": [],
   "source": []
  }
 ],
 "metadata": {
  "kernelspec": {
   "display_name": "Python 3 (ipykernel)",
   "language": "python",
   "name": "python3"
  },
  "language_info": {
   "codemirror_mode": {
    "name": "ipython",
    "version": 3
   },
   "file_extension": ".py",
   "mimetype": "text/x-python",
   "name": "python",
   "nbconvert_exporter": "python",
   "pygments_lexer": "ipython3",
   "version": "3.10.4"
  }
 },
 "nbformat": 4,
 "nbformat_minor": 5
}
